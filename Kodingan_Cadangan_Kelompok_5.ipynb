{
  "nbformat": 4,
  "nbformat_minor": 0,
  "metadata": {
    "colab": {
      "provenance": [],
      "authorship_tag": "ABX9TyMhB6SYWaewnZq1/8YAgmtd",
      "include_colab_link": true
    },
    "kernelspec": {
      "name": "python3",
      "display_name": "Python 3"
    },
    "language_info": {
      "name": "python"
    }
  },
  "cells": [
    {
      "cell_type": "markdown",
      "metadata": {
        "id": "view-in-github",
        "colab_type": "text"
      },
      "source": [
        "<a href=\"https://colab.research.google.com/github/HABIBIEDWIP/Chatbot/blob/main/Kodingan_Cadangan_Kelompok_5.ipynb\" target=\"_parent\"><img src=\"https://colab.research.google.com/assets/colab-badge.svg\" alt=\"Open In Colab\"/></a>"
      ]
    },
    {
      "cell_type": "markdown",
      "source": [
        "**Program Chatboot Sederhana**\n",
        "\n",
        "Oleh kelompok 5\n",
        "\n",
        "Dengan anggota sebagai berikut ini: \n",
        "- Hafiz Ibnu Kahfisin\n",
        "\n",
        "- Brescia Ayundina\n",
        "\n",
        "- Nyzatty Arifin\n",
        "\n",
        "- Mochamad Habibie Dwi Prasetyo \n",
        ">\n",
        "Pada penerapan kali ini ,kami dari kelompok 5 memohon  izin untuk membuat \n",
        "suatu pemograman sederhana untuk melengkapi penugasan dari klas Al Jazari bagian domain NLP (Natural Language Processing) dengan coach domain NLP (**Coach Jali**),dengan dedline pengumpulan penugasan yaitu pada **tanggal 17 Oktober 2022**\n",
        ">\n",
        "Kami sebelumnya memohon izin kepada coach dan teman-teman untuk mengambil refrensi panduan pengerjaan [disini](https://pythonjaofficial.blogspot.com/2021/01/chatbot-sederhana-dengan-python.html) , serta [disini](https://youtu.be/vjTETlOVh1s)\n"
      ],
      "metadata": {
        "id": "SSM-hnHfjH_o"
      }
    },
    {
      "cell_type": "markdown",
      "source": [
        "Untuk membuat chatbot dengan menggunakan python, maka kita terlebih dahulu mengimport modul re dan modul random ke dalam script python.\n",
        "\n",
        "\n",
        "1.     Pertama kita import modul re. Tujuan mengimport modul re pada chatbot adalah untuk memindai kata yang diinginkan pada kalimat untuk menjalankan fungsi yang diinginkan. Script python seperti di bawah ini:"
      ],
      "metadata": {
        "id": "WCa-6i43mXcr"
      }
    },
    {
      "cell_type": "code",
      "execution_count": null,
      "metadata": {
        "colab": {
          "base_uri": "https://localhost:8080/"
        },
        "id": "X0yHrWXcaITV",
        "outputId": "3f6e3a85-592c-4075-c67f-d31f518ad9d0"
      },
      "outputs": [
        {
          "output_type": "stream",
          "name": "stdout",
          "text": [
            "Aplikasi Chatbot Sederhana Kelompok 5\n",
            "\n",
            "Pada kalimat harus terdapat kata halo, hai, atau hey\n",
            "\n",
            "Sekarang masukkan kalimat\n",
            "\n",
            "\n"
          ]
        }
      ],
      "source": [
        "import re\n",
        "import random\n",
        "\n",
        "print('Aplikasi Chatbot Sederhana Kelompok 5')\n",
        "sapaan = [\"Halo juga\", \"Hai juga yang di sana\", \"Hey to you\" ,\"Halo\",'Halo lur']\n",
        "\n",
        "while True:\n",
        "    print(\"\\nPada kalimat harus terdapat kata halo, hai, atau hey\")\n",
        "    print('')\n",
        "    print(\"Sekarang masukkan kalimat\")\n",
        "    print(\"\\n\")\n",
        "    x = input(\"User\\t:\")\n",
        "    if re.findall(r'halo|hei|hey|hai|hay', x):\n",
        "        print(\"Bot\\t:\"+random.choice(sapaan), \"\\n\")\n",
        "    else:\n",
        "        print(\"Bot\\t:Tidak ada kata sesuai yang dicari dalam kalimat\\n\")\n",
        "    "
      ]
    },
    {
      "cell_type": "markdown",
      "source": [
        "Catatan:   \n",
        "\n",
        "Tanda ( | ) pada modul re merupakan “atau”. Tanda ( | ) pada modul re pada script python berfungsi untuk memberikan beberapa kondisi yang berbeda dalam menjalankan suatu fungsi program yang sama"
      ],
      "metadata": {
        "id": "7CXepb10mm0q"
      }
    }
  ]
}